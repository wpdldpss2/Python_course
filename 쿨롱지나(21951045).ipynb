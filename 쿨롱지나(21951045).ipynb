{
  "nbformat": 4,
  "nbformat_minor": 0,
  "metadata": {
    "colab": {
      "name": "쿨롱지나(21951045)",
      "provenance": [],
      "collapsed_sections": [],
      "toc_visible": true,
      "authorship_tag": "ABX9TyPRfl5k85kqfzVb3s8OZfpJ",
      "include_colab_link": true
    },
    "kernelspec": {
      "name": "python3",
      "display_name": "Python 3"
    },
    "language_info": {
      "name": "python"
    }
  },
  "cells": [
    {
      "cell_type": "markdown",
      "metadata": {
        "id": "view-in-github",
        "colab_type": "text"
      },
      "source": [
        "<a href=\"https://colab.research.google.com/github/wpdldpss2/Python_course/blob/main/%EC%BF%A8%EB%A1%B1%EC%A7%80%EB%82%98(21951045).ipynb\" target=\"_parent\"><img src=\"https://colab.research.google.com/assets/colab-badge.svg\" alt=\"Open In Colab\"/></a>"
      ]
    },
    {
      "cell_type": "markdown",
      "source": [
        "# 기타"
      ],
      "metadata": {
        "id": "xwMgIFfkCaDl"
      }
    },
    {
      "cell_type": "code",
      "execution_count": null,
      "metadata": {
        "colab": {
          "base_uri": "https://localhost:8080/"
        },
        "id": "IMJaEfZU0_WA",
        "outputId": "9ea4db90-a80b-48c5-f0b5-d135c4c38a5a"
      },
      "outputs": [
        {
          "output_type": "stream",
          "name": "stdout",
          "text": [
            "2000 1000\n"
          ]
        }
      ],
      "source": [
        "a = 1000\n",
        "b = 2000\n",
        "temp = a\n",
        "a =b\n",
        "b=temp\n",
        "print(a,b)\n"
      ]
    },
    {
      "cell_type": "markdown",
      "source": [
        "<pre>\n",
        "<데이터형(Data type) = 자료형>\n",
        "\n",
        "정수형(Integer)      int() \n",
        "실수형(Float)        float()\n",
        "문자열형(String)     str()\n",
        "부울형(Boolean)      bool()\n",
        "복소수형(Complex)    complex()\n",
        "\n",
        "리스트(List)         list()\n",
        "튜플(Tuple)          tuple()\n",
        "집합(Set)            set()\n",
        "딕셔너리(Dictionary) dict()\n",
        "</pre>"
      ],
      "metadata": {
        "id": "-4TwQ2GXDYgL"
      }
    },
    {
      "cell_type": "code",
      "source": [
        "print('-'*30)\n",
        "print('두 정수의 합을 구하는 프로그램')\n",
        "print('-'*30)\n",
        "\n",
        "print()\n",
        "\n",
        "number1 = int(input('첫번째 정수 : '))\n",
        "number2 = int(input('두번째 정수 : '))\n",
        "\n",
        "\n",
        "sum = number1 + number2\n",
        "\n",
        "#print(number1, '와',number2,'의 합은',sum,'입니다')\n",
        "#print(str(number1)+'와'+str(number2)+'의 합은'+str(sum)+'입니다.')\n",
        "print('{:,} 와 {:,} 의 합은 {:,} 입니다' .format(number1,number2,sum))"
      ],
      "metadata": {
        "colab": {
          "base_uri": "https://localhost:8080/"
        },
        "outputId": "b7f387df-ee5b-4b6e-a145-61f9d28607c0",
        "id": "vfXXIt4qVtfi"
      },
      "execution_count": null,
      "outputs": [
        {
          "output_type": "stream",
          "name": "stdout",
          "text": [
            "------------------------------\n",
            "두 정수의 합을 구하는 프로그램\n",
            "------------------------------\n",
            "\n",
            "첫번째 정수 : 100000000000000000\n",
            "두번째 정수 : 3000000432678432\n",
            "100,000,000,000,000,000 와 3,000,000,432,678,432 의 합은 103,000,000,432,678,432 입니다\n"
          ]
        }
      ]
    },
    {
      "cell_type": "markdown",
      "source": [
        "<pre>\n",
        "표기법(Notation)\n",
        "\n",
        "1.Snake Case\n",
        "pen_unit_price\n",
        "\n",
        "2.Camel Case\n",
        "penUnitPrice\n",
        "\n",
        "3. Pascal Case\n",
        "PenUnitPrice\n",
        "\n",
        "</pre>"
      ],
      "metadata": {
        "id": "OqGwBFEADlj6"
      }
    },
    {
      "cell_type": "code",
      "source": [
        "a = [1, 2, 3, 3, 4, 4, 4, 5]\n",
        "a =list(set(a))\n",
        "#a = list(a)\n",
        "\n",
        "print(a)"
      ],
      "metadata": {
        "id": "gsLHDmjuUiZu"
      },
      "execution_count": null,
      "outputs": []
    },
    {
      "cell_type": "markdown",
      "source": [
        "<pre>\n",
        "https://www.w3schools.com/\n",
        "프로그래밍 연습 페이지\n",
        "\n",
        "https://pythontutor.com/\n",
        "파이썬 코드를 분석해주는 페이지\n",
        "</pre>"
      ],
      "metadata": {
        "id": "Iz_Ghnwmj_oy"
      }
    },
    {
      "cell_type": "code",
      "source": [
        "# 모듈\n",
        "\n",
        "import math\n",
        "\n",
        "n = math.factorial(5)\n",
        "\n",
        "print(n)\n",
        "\n",
        "\n",
        "\n",
        "#모듈에 들어있는것 알아보기\n",
        "\n",
        "dir(math)\n",
        "\n",
        "\n",
        "\n",
        "#모듈 일부 가지고오기\n",
        "\n",
        "from math import factorial\n",
        "\n",
        "n = factorial(5)\n",
        "\n",
        "\n",
        "\n",
        "#모듈 중 일부를 여러개 가져오기\n",
        "\n",
        "from math import(factorial,acos)\n",
        "\n",
        "n = factorial(5) + acos(1)\n",
        "\n",
        "\n",
        "\n",
        "#모듈 전부 가져오기\n",
        "\n",
        "from math import *\n",
        "\n",
        "n = factorial(5)\n"
      ],
      "metadata": {
        "id": "go0GiLEqdtCE"
      },
      "execution_count": null,
      "outputs": []
    },
    {
      "cell_type": "markdown",
      "source": [
        "<pre>\n",
        "추천하는 책: \n",
        "\n",
        "- Do it! 점프 투 파이썬 \n",
        "  https://wikidocs.net/35\n",
        "\n",
        "- 파이썬 코딩 도장\n",
        "  https://dojang.io/\n",
        "\n",
        "\n",
        "\n",
        "추천 강의 :\n",
        "\n",
        "  https://www.edwith.org/pnu-basicpython#\n",
        "\n",
        "  https://www.edwith.org/sogang_python\n",
        "\n",
        "  boostcourse\n",
        "  모두를 위한 파이썬 (PY4E)\n",
        "\n"
      ],
      "metadata": {
        "id": "sZuHnJ6XyEfV"
      }
    },
    {
      "cell_type": "markdown",
      "source": [
        "# 실습"
      ],
      "metadata": {
        "id": "6vCX44KkCNp6"
      }
    },
    {
      "cell_type": "markdown",
      "source": [
        "###실습1\n"
      ],
      "metadata": {
        "id": "cJPD459Z82Ii"
      }
    },
    {
      "cell_type": "code",
      "source": [
        "n =36\n",
        "print('-' * n)\n",
        "print(' 파이썬의 세계로 오신걸 환영합니다.')\n",
        "print('-' * n)"
      ],
      "metadata": {
        "colab": {
          "base_uri": "https://localhost:8080/"
        },
        "id": "X-_d5r1r9GZg",
        "outputId": "76f4e85c-0722-48ae-ac56-7b71635fff8e"
      },
      "execution_count": null,
      "outputs": [
        {
          "output_type": "stream",
          "name": "stdout",
          "text": [
            "------------------------------------\n",
            " 파이썬의 세계로 오신걸 환영합니다.\n",
            "------------------------------------\n"
          ]
        }
      ]
    },
    {
      "cell_type": "markdown",
      "source": [
        "###실습2"
      ],
      "metadata": {
        "id": "tHkcjI909lo8"
      }
    },
    {
      "cell_type": "code",
      "source": [
        "import keyword\n",
        "print(keyword.kwlist)\n",
        "print(len(keyword.kwlist))"
      ],
      "metadata": {
        "colab": {
          "base_uri": "https://localhost:8080/"
        },
        "id": "rfW6Svgy9VuH",
        "outputId": "494217eb-3131-4f6e-b8b9-56b6680b2a54"
      },
      "execution_count": null,
      "outputs": [
        {
          "output_type": "stream",
          "name": "stdout",
          "text": [
            "['False', 'None', 'True', 'and', 'as', 'assert', 'async', 'await', 'break', 'class', 'continue', 'def', 'del', 'elif', 'else', 'except', 'finally', 'for', 'from', 'global', 'if', 'import', 'in', 'is', 'lambda', 'nonlocal', 'not', 'or', 'pass', 'raise', 'return', 'try', 'while', 'with', 'yield']\n",
            "35\n"
          ]
        }
      ]
    },
    {
      "cell_type": "markdown",
      "source": [
        "### 실습3"
      ],
      "metadata": {
        "id": "F6VNsHQrEsYs"
      }
    },
    {
      "cell_type": "code",
      "source": [
        "a =100\n",
        "b = 100.9\n",
        "c = 'Python'\n",
        "d = True\n",
        "e = 2 + 3j\n",
        "\n",
        "print(type(a))\n",
        "print(type(b))\n",
        "print(type(c))\n",
        "print(type(d))\n",
        "print(type(e))"
      ],
      "metadata": {
        "colab": {
          "base_uri": "https://localhost:8080/"
        },
        "id": "OJ3U5NfNCl1F",
        "outputId": "fad1658f-014a-4190-d4c3-951d9b00703b"
      },
      "execution_count": null,
      "outputs": [
        {
          "output_type": "stream",
          "name": "stdout",
          "text": [
            "<class 'int'>\n",
            "<class 'float'>\n",
            "<class 'str'>\n",
            "<class 'bool'>\n",
            "<class 'complex'>\n"
          ]
        }
      ]
    },
    {
      "cell_type": "code",
      "source": [
        "a = [1,2,3,4,5]\n",
        "b=(1,2,3,4,5)\n",
        "c={1,2,3,4,5}\n",
        "d={'가':1,'나':2,'다':3,'라':4,'마':5}\n",
        "\n",
        "print(type(a))\n",
        "print(type(b))\n",
        "print(type(c))\n",
        "print(type(d))\n",
        "print(type(e))\n",
        "\n",
        "print(len(d))"
      ],
      "metadata": {
        "colab": {
          "base_uri": "https://localhost:8080/"
        },
        "id": "BqfwaXUBFAol",
        "outputId": "f0df31cd-59a9-44e8-e080-4b018678435c"
      },
      "execution_count": null,
      "outputs": [
        {
          "output_type": "stream",
          "name": "stdout",
          "text": [
            "<class 'list'>\n",
            "<class 'tuple'>\n",
            "<class 'set'>\n",
            "<class 'dict'>\n",
            "<class 'complex'>\n",
            "5\n"
          ]
        }
      ]
    },
    {
      "cell_type": "markdown",
      "source": [
        "###실습4"
      ],
      "metadata": {
        "id": "258X4JBgE9gY"
      }
    },
    {
      "cell_type": "code",
      "source": [
        "print('-'*23)\n",
        "print(' BMI를 구하는 프로그램 ')\n",
        "print('-'*23)\n",
        "\n",
        "print()\n",
        "\n",
        "weight = float(input('체중(kg) : '))\n",
        "height = float(input('신장(m)  : '))\n",
        "\n",
        "bmi = weight / height**2\n",
        "\n",
        "print()\n",
        "\n",
        "print('체중 {}kg 신장 {}m 인 사람의 BMI는 {:.2f} 입니다' .format(weight,height,bmi))"
      ],
      "metadata": {
        "colab": {
          "base_uri": "https://localhost:8080/"
        },
        "id": "u5nvTZZBJNsj",
        "outputId": "b017056f-a366-4bf3-988d-88be90df92b1"
      },
      "execution_count": null,
      "outputs": [
        {
          "output_type": "stream",
          "name": "stdout",
          "text": [
            "-----------------------\n",
            " BMI를 구하는 프로그램 \n",
            "-----------------------\n",
            "\n",
            "체중(kg) : 55\n",
            "신장(m)  : 1.74\n",
            "\n",
            "체중 55.0kg 신장 1.74m 인 사람의 BMI는 18.17 입니다\n"
          ]
        }
      ]
    },
    {
      "cell_type": "markdown",
      "source": [
        "### 실습5 (과제)"
      ],
      "metadata": {
        "id": "MhUS-iQHf_ov"
      }
    },
    {
      "cell_type": "code",
      "source": [
        "print('-'*45)\n",
        "print('화씨는 섭씨, 섭시는 화씨로 변환해주는 프로그램')\n",
        "print('-'*45)\n",
        "\n",
        "print()\n",
        "print('변경을 원치 않는 온도에도 임의의 숫자를 넣어주세요')\n",
        "print()\n",
        "\n",
        "fer = float(input('화씨온도 :'))\n",
        "cel = float(input('섭씨온도 :'))\n",
        "\n",
        "trFer = cel*(9/5)+32\n",
        "trCel = (fer - 32)*5/9\n",
        "\n",
        "print()\n",
        "\n",
        "print('섭씨를 화씨로 바꾼 온도는 {:.2f}, 화씨를 섭씨로 바꾼 온도는 {:.2f} 입니다.' .format(trCel,trFer))"
      ],
      "metadata": {
        "colab": {
          "base_uri": "https://localhost:8080/"
        },
        "id": "wWwHR4mYKk6A",
        "outputId": "06a0303d-55b3-435a-e8cc-7bcacec86e8c"
      },
      "execution_count": null,
      "outputs": [
        {
          "output_type": "stream",
          "name": "stdout",
          "text": [
            "---------------------------------------------\n",
            "화씨는 섭씨, 섭시는 화씨로 변환해주는 프로그램\n",
            "---------------------------------------------\n",
            "\n",
            "변경을 원치 않는 온도에도 임의의 숫자를 넣어주세요\n",
            "\n",
            "화씨온도 :350\n",
            "섭씨온도 :100\n",
            "\n",
            "섭씨를 화씨로 바꾼 온도는 176.67, 화씨를 섭씨로 바꾼 온도는 212.00 입니다.\n"
          ]
        }
      ]
    },
    {
      "cell_type": "markdown",
      "source": [
        "### 실습6"
      ],
      "metadata": {
        "id": "kIFmM0RKiWbr"
      }
    },
    {
      "cell_type": "code",
      "source": [
        "hello = 'Hello, world!'"
      ],
      "metadata": {
        "id": "uuTjmpOiiWJm"
      },
      "execution_count": null,
      "outputs": []
    },
    {
      "cell_type": "code",
      "source": [
        "a = 'Life is too short, You need Python.'\n",
        "\n",
        "print(a[0])\n",
        "print(a[-1])\n",
        "\n",
        "print(a[3:7])\n",
        "print(a[-7:-1])\n",
        "\n",
        "print(a[:5])\n",
        "print(a[3:])"
      ],
      "metadata": {
        "colab": {
          "base_uri": "https://localhost:8080/"
        },
        "id": "JGyfTaKvhMdT",
        "outputId": "9046f82f-2a44-4cd9-c7b5-5e8bb6a0c3fe"
      },
      "execution_count": null,
      "outputs": [
        {
          "output_type": "stream",
          "name": "stdout",
          "text": [
            "L\n",
            ".\n",
            "e is\n",
            "Python\n",
            "Life \n",
            "e is too short, You need Python.\n"
          ]
        }
      ]
    },
    {
      "cell_type": "markdown",
      "source": [
        "### 실습7"
      ],
      "metadata": {
        "id": "C4RT-wInkbiT"
      }
    },
    {
      "cell_type": "markdown",
      "source": [
        "연습 하면서 설명 한 부분이라 넘어감."
      ],
      "metadata": {
        "id": "qhJrcb2mkeWo"
      }
    },
    {
      "cell_type": "markdown",
      "source": [
        "### 실습8"
      ],
      "metadata": {
        "id": "v7hzRLK5kLOC"
      }
    },
    {
      "cell_type": "code",
      "source": [
        "pen_unit_price = 2000\n",
        "note_unit_price = 1000\n",
        "\n",
        "pen_count = int(input('펜의 갯수 입력 : '))\n",
        "note_count = int(input('노트의 갯수 입력 : '))\n",
        "\n",
        "total_price = (pen_unit_price * pen_count) + (note_unit_price * note_count)\n",
        "\n",
        "if total_price > 15000:\n",
        "  total_price = total_price - total_price * 0.1\n",
        "  print('총 구매 금액(10% 할인) 은 {:,.0f}원 입니다.' .format(total_price))\n",
        "else:\n",
        "  print('총 구매 금액은 {:,}원 입니다.' .format(total_price))"
      ],
      "metadata": {
        "colab": {
          "base_uri": "https://localhost:8080/"
        },
        "id": "-neN44nkkOcd",
        "outputId": "3284e27c-db0f-4f9c-eebf-5c3eb23209ce"
      },
      "execution_count": null,
      "outputs": [
        {
          "output_type": "stream",
          "name": "stdout",
          "text": [
            "펜의 갯수 입력 : 100\n",
            "노트의 갯수 입력 : 100\n",
            "총 구매 금액(10% 할인) 은 270,000원 입니다.\n"
          ]
        }
      ]
    },
    {
      "cell_type": "markdown",
      "source": [
        "### 실습9"
      ],
      "metadata": {
        "id": "v1zolYdL_Eb0"
      }
    },
    {
      "cell_type": "code",
      "source": [
        "shoes_unit_price = 100000\n",
        "shirt_unit_price = 50000\n",
        "\n",
        "shoes_count = int(input('신발의 갯수 입력   : '))\n",
        "shirt_count = int(input('티셔츠의 갯수 입력 : '))\n",
        "\n",
        "total_price = (shoes_count * shoes_unit_price) + (shirt_count * shirt_unit_price)\n",
        "\n",
        "if total_price >= 300000:\n",
        "  total_price = total_price - total_price*0.15\n",
        "  print('총 구매 금액(15%할인) 은 {:,.0f}원 입니다.' .format(total_price))\n",
        "else: \n",
        "  total_price = total_price - total_price*0.05\n",
        "  print('총 구매 금액(5%할인) 은 {:,.0f}원 입니다.' .format(total_price))"
      ],
      "metadata": {
        "id": "KXGN9rInmKAE",
        "colab": {
          "base_uri": "https://localhost:8080/"
        },
        "outputId": "cbe89cc0-f18e-4116-a1f3-25bc3a42e15d"
      },
      "execution_count": null,
      "outputs": [
        {
          "output_type": "stream",
          "name": "stdout",
          "text": [
            "신발의 갯수 입력   : 1\n",
            "티셔츠의 갯수 입력 : 1\n",
            "총 구매 금액(5%할인) 은 142,500원 입니다.\n"
          ]
        }
      ]
    },
    {
      "cell_type": "markdown",
      "source": [
        "### 실습10"
      ],
      "metadata": {
        "id": "V4Kjb7itE4_x"
      }
    },
    {
      "cell_type": "code",
      "source": [
        "score = int(input('점수를 입력 : '))\n",
        "\n",
        "if score >= 90:\n",
        "  print('A등급 입니다.')\n",
        "elif score >= 80:\n",
        "  print('B등급 입니다.')\n",
        "elif score >= 70:\n",
        "  print('C등급 입니다.')\n",
        "elif score >= 60:\n",
        "  print('D등급 입니다.')\n",
        "else:\n",
        "  print('E등급 입니다.')"
      ],
      "metadata": {
        "colab": {
          "base_uri": "https://localhost:8080/"
        },
        "id": "TRvOFrVKAvSA",
        "outputId": "fdb044b2-4b1a-4fde-fe91-85c9f88c0e3d"
      },
      "execution_count": null,
      "outputs": [
        {
          "output_type": "stream",
          "name": "stdout",
          "text": [
            "점수를 입력 : 95\n",
            "A등급 입니다.\n"
          ]
        }
      ]
    },
    {
      "cell_type": "markdown",
      "source": [
        "### 실습11 (과제)"
      ],
      "metadata": {
        "id": "rEPTqdsbH0Gr"
      }
    },
    {
      "cell_type": "code",
      "source": [
        "first = int(input('첫번째 과목의 점수 : '))\n",
        "second = int(input('두번째 과목의 점수 : '))\n",
        "third = int(input('세번째 과목의 점수 : '))\n",
        "\n",
        "total = first + second + third \n",
        "\n",
        "if first <40 or second < 40 or third < 40:\n",
        "  print('과락')\n",
        "elif total < 180:\n",
        "  print('불합격')\n",
        "else:\n",
        "  print('합격') "
      ],
      "metadata": {
        "colab": {
          "base_uri": "https://localhost:8080/"
        },
        "id": "yTS4gC8FHAEF",
        "outputId": "9c4ca7db-e64c-4b02-a11c-ee1e279389dd"
      },
      "execution_count": null,
      "outputs": [
        {
          "output_type": "stream",
          "name": "stdout",
          "text": [
            "첫번째 과목의 점수 : 39\n",
            "두번째 과목의 점수 : 100\n",
            "세번째 과목의 점수 : 100\n",
            "과락\n"
          ]
        }
      ]
    },
    {
      "cell_type": "markdown",
      "source": [
        "### 실습12"
      ],
      "metadata": {
        "id": "rXszYuQIJLZm"
      }
    },
    {
      "cell_type": "code",
      "source": [
        "#리스트\n",
        "\n",
        "a = [1, 2, 3, 4, 5]\n",
        "b = [1, 2, '가', '나', '다']\n",
        "c = [1, 2, [3, 4, 5], ['가', '나', '다']]\n",
        "\n",
        "print(len(c))\n",
        "print(c[1])\n",
        "print(c[3][1])\n",
        "\n",
        "a[4] = 500\n",
        "print(a)"
      ],
      "metadata": {
        "colab": {
          "base_uri": "https://localhost:8080/"
        },
        "id": "jbk-6exMI-co",
        "outputId": "a94a5160-a960-4016-f594-4de7bef1dce3"
      },
      "execution_count": null,
      "outputs": [
        {
          "output_type": "stream",
          "name": "stdout",
          "text": [
            "4\n",
            "2\n",
            "나\n",
            "[1, 2, 3, 4, 500]\n"
          ]
        }
      ]
    },
    {
      "cell_type": "markdown",
      "source": [
        "### 실습13"
      ],
      "metadata": {
        "id": "bej86TLNQtWI"
      }
    },
    {
      "cell_type": "code",
      "source": [
        "a = [1, 2, 3, 4, 5]\n",
        "b = [6, 7, 8, 9, 10]\n",
        "\n",
        "print(a + b)\n",
        "print(a * 3)\n"
      ],
      "metadata": {
        "colab": {
          "base_uri": "https://localhost:8080/"
        },
        "id": "EtrEn-KuPDhV",
        "outputId": "5471eb53-c8dc-46cb-878c-9c1bdc0103cd"
      },
      "execution_count": null,
      "outputs": [
        {
          "output_type": "stream",
          "name": "stdout",
          "text": [
            "[1, 2, 3, 4, 5, 6, 7, 8, 9, 10]\n",
            "[1, 2, 3, 4, 5, 1, 2, 3, 4, 5, 1, 2, 3, 4, 5]\n"
          ]
        }
      ]
    },
    {
      "cell_type": "markdown",
      "source": [
        "###실습14"
      ],
      "metadata": {
        "id": "zjVWAc1bQ9fd"
      }
    },
    {
      "cell_type": "code",
      "source": [
        "#튜플 (변경불가)\n",
        "\n",
        "a = (1, 2, 3, 4, 5)\n",
        "b = (1, 2, '가', '나', '다')\n",
        "c = (1, 2, (3, 4, 5), ['가', '나', '다']) \n",
        "\n",
        "a[4] = 500\n",
        "print(a)\n",
        "\n",
        "c[3][1] = 'Python'\n",
        "print(c)"
      ],
      "metadata": {
        "colab": {
          "base_uri": "https://localhost:8080/"
        },
        "id": "2V3uZ1kZQpu8",
        "outputId": "37c938c1-5bbd-46ee-8934-75d9c9cfd61c"
      },
      "execution_count": null,
      "outputs": [
        {
          "output_type": "stream",
          "name": "stdout",
          "text": [
            "(1, 2, (3, 4, 5), ['가', 'Python', '다'])\n"
          ]
        }
      ]
    },
    {
      "cell_type": "markdown",
      "source": [
        "### 실습15"
      ],
      "metadata": {
        "id": "ssOp6YJ2Svbg"
      }
    },
    {
      "cell_type": "code",
      "source": [
        "a = (1, 2, 3, 4, 5)\n",
        "b = (6, 7, 8, 9, 10)\n",
        "\n",
        "print(a +b)\n",
        "print(a * 3)"
      ],
      "metadata": {
        "colab": {
          "base_uri": "https://localhost:8080/"
        },
        "id": "yMnEkFMdRVBO",
        "outputId": "0c158291-4ee7-4c52-898c-b0ddef046fe5"
      },
      "execution_count": null,
      "outputs": [
        {
          "output_type": "stream",
          "name": "stdout",
          "text": [
            "(1, 2, 3, 4, 5, 6, 7, 8, 9, 10)\n",
            "(1, 2, 3, 4, 5, 1, 2, 3, 4, 5, 1, 2, 3, 4, 5)\n"
          ]
        }
      ]
    },
    {
      "cell_type": "markdown",
      "source": [
        "### 실습16"
      ],
      "metadata": {
        "id": "ip0q3KurS6Ac"
      }
    },
    {
      "cell_type": "code",
      "source": [
        "#집합 (순서가 없음) 인덱싱 슬라이싱 불가능 \n",
        "\n",
        "a = list('python')\n",
        "b = tuple('python')\n",
        "c = set('python')\n",
        "\n",
        "print(a)\n",
        "print(b)\n",
        "print(c)"
      ],
      "metadata": {
        "colab": {
          "base_uri": "https://localhost:8080/"
        },
        "id": "z_AIprPnS3W3",
        "outputId": "af3faa0a-c7d0-4d7f-af77-15d97f5d7074"
      },
      "execution_count": null,
      "outputs": [
        {
          "output_type": "stream",
          "name": "stdout",
          "text": [
            "['p', 'y', 't', 'h', 'o', 'n']\n",
            "('p', 'y', 't', 'h', 'o', 'n')\n",
            "{'o', 'p', 'y', 't', 'n', 'h'}\n"
          ]
        }
      ]
    },
    {
      "cell_type": "code",
      "source": [
        "a = {1, 2, 3, 4, 5}\n",
        "b = {3, 4, 5, 6, 7}\n",
        "\n",
        "print(a | b)\n",
        "print(a & b)\n",
        "print(a - b)"
      ],
      "metadata": {
        "colab": {
          "base_uri": "https://localhost:8080/"
        },
        "id": "GTDkRiOfVXNB",
        "outputId": "835b2f63-2ffe-4e5a-b7c1-89e36b40ff11"
      },
      "execution_count": null,
      "outputs": [
        {
          "output_type": "stream",
          "name": "stdout",
          "text": [
            "{1, 2, 3, 4, 5, 6, 7}\n",
            "{3, 4, 5}\n",
            "{1, 2}\n"
          ]
        }
      ]
    },
    {
      "cell_type": "markdown",
      "source": [
        "###실습17"
      ],
      "metadata": {
        "id": "bpiBN0EZZm-K"
      }
    },
    {
      "cell_type": "code",
      "source": [
        "# 딕셔너리\n",
        "\n",
        "price = {'새우깡':1000, '감자깡':1500, '고구마깡':1300}\n",
        "\n",
        "print(price['새우깡'])\n",
        "\n",
        "print(price.keys())\n",
        "print(price.values())\n",
        "print(price.items())"
      ],
      "metadata": {
        "colab": {
          "base_uri": "https://localhost:8080/"
        },
        "id": "rHHhMEnfZzhM",
        "outputId": "693672fe-e6f8-43ef-e958-6867721141d2"
      },
      "execution_count": null,
      "outputs": [
        {
          "output_type": "stream",
          "name": "stdout",
          "text": [
            "1000\n",
            "dict_keys(['새우깡', '감자깡', '고구마깡'])\n",
            "dict_values([1000, 1500, 1300])\n",
            "dict_items([('새우깡', 1000), ('감자깡', 1500), ('고구마깡', 1300)])\n"
          ]
        }
      ]
    },
    {
      "cell_type": "markdown",
      "source": [
        "###실습18"
      ],
      "metadata": {
        "id": "EQWuKyqAcLjo"
      }
    },
    {
      "cell_type": "code",
      "source": [
        "#range(start,stop,step)\n",
        "\n",
        "for i in range(10):\n",
        "  print(i, end = ' ')  #end 는 가로로 출력하기 위해 작성"
      ],
      "metadata": {
        "colab": {
          "base_uri": "https://localhost:8080/"
        },
        "id": "wf04Ere9bW1w",
        "outputId": "7d6ce579-2636-41a7-a322-297f6d582a5e"
      },
      "execution_count": null,
      "outputs": [
        {
          "output_type": "stream",
          "name": "stdout",
          "text": [
            "0 1 2 3 4 5 6 7 8 9 "
          ]
        }
      ]
    },
    {
      "cell_type": "code",
      "source": [
        "for i in range(1,11):\n",
        "  print(i,end = ' ')"
      ],
      "metadata": {
        "colab": {
          "base_uri": "https://localhost:8080/"
        },
        "id": "fWJfaEe-cSS2",
        "outputId": "6721a74c-f0ff-4e30-9a10-18ce01f75a52"
      },
      "execution_count": null,
      "outputs": [
        {
          "output_type": "stream",
          "name": "stdout",
          "text": [
            "1 2 3 4 5 6 7 8 9 10 "
          ]
        }
      ]
    },
    {
      "cell_type": "code",
      "source": [
        "for i in range(0,11,2):\n",
        "  print(i,end = ' ')"
      ],
      "metadata": {
        "colab": {
          "base_uri": "https://localhost:8080/"
        },
        "id": "cU9ptYk8cWmh",
        "outputId": "37d9c9da-1a2b-417e-9bb3-14b789576cc2"
      },
      "execution_count": null,
      "outputs": [
        {
          "output_type": "stream",
          "name": "stdout",
          "text": [
            "0 2 4 6 8 10 "
          ]
        }
      ]
    },
    {
      "cell_type": "markdown",
      "source": [
        "###실습19"
      ],
      "metadata": {
        "id": "YElF4p_aioPB"
      }
    },
    {
      "cell_type": "code",
      "source": [
        "count = int(input('반복할 횟수 입력'))\n",
        "\n",
        "for i in range(count):\n",
        "  print('Hello python')"
      ],
      "metadata": {
        "colab": {
          "base_uri": "https://localhost:8080/"
        },
        "id": "lFUGFox2fEiZ",
        "outputId": "0e972ba2-19c2-4cfa-f684-5c37fa180042"
      },
      "execution_count": null,
      "outputs": [
        {
          "output_type": "stream",
          "name": "stdout",
          "text": [
            "반복할 횟수 입력3\n",
            "Hello python\n",
            "Hello python\n",
            "Hello python\n"
          ]
        }
      ]
    },
    {
      "cell_type": "code",
      "source": [
        "string = ['시과', '딸기', '바나나', '수박', '복숭아']\n",
        "\n",
        "for i in string:\n",
        "  print('저는 {}를(을) 무척 좋아합니다.' .format(i))"
      ],
      "metadata": {
        "colab": {
          "base_uri": "https://localhost:8080/"
        },
        "id": "OJXq2rSpgPAo",
        "outputId": "e9d22ce9-14f1-4369-ad15-09032d810b63"
      },
      "execution_count": null,
      "outputs": [
        {
          "output_type": "stream",
          "name": "stdout",
          "text": [
            "저는 시과를(을) 무척 좋아합니다.\n",
            "저는 딸기를(을) 무척 좋아합니다.\n",
            "저는 바나나를(을) 무척 좋아합니다.\n",
            "저는 수박를(을) 무척 좋아합니다.\n",
            "저는 복숭아를(을) 무척 좋아합니다.\n"
          ]
        }
      ]
    },
    {
      "cell_type": "code",
      "source": [
        "string = input('임의의 문자열 입력.')\n",
        "\n",
        "for i in string:\n",
        "  print(i, end = ' ')"
      ],
      "metadata": {
        "id": "oznbBlzPg7Ir",
        "colab": {
          "base_uri": "https://localhost:8080/"
        },
        "outputId": "6df61c71-a517-418b-d041-6b1e83672cda"
      },
      "execution_count": null,
      "outputs": [
        {
          "output_type": "stream",
          "name": "stdout",
          "text": [
            "임의의 문자열 입력.jfjdks\n",
            "j f j d k s "
          ]
        }
      ]
    },
    {
      "cell_type": "code",
      "source": [
        "for i in range(2,10):\n",
        "  for e in range(1,10):\n",
        "    print('{} x {} = {}' .format(i,e,i*e))"
      ],
      "metadata": {
        "colab": {
          "base_uri": "https://localhost:8080/"
        },
        "id": "-YdM0_afndBV",
        "outputId": "150b86bc-1eab-48f2-a8ab-86d57a3d3580"
      },
      "execution_count": null,
      "outputs": [
        {
          "output_type": "stream",
          "name": "stdout",
          "text": [
            "2 x 1 = 2\n",
            "2 x 2 = 4\n",
            "2 x 3 = 6\n",
            "2 x 4 = 8\n",
            "2 x 5 = 10\n",
            "2 x 6 = 12\n",
            "2 x 7 = 14\n",
            "2 x 8 = 16\n",
            "2 x 9 = 18\n",
            "3 x 1 = 3\n",
            "3 x 2 = 6\n",
            "3 x 3 = 9\n",
            "3 x 4 = 12\n",
            "3 x 5 = 15\n",
            "3 x 6 = 18\n",
            "3 x 7 = 21\n",
            "3 x 8 = 24\n",
            "3 x 9 = 27\n",
            "4 x 1 = 4\n",
            "4 x 2 = 8\n",
            "4 x 3 = 12\n",
            "4 x 4 = 16\n",
            "4 x 5 = 20\n",
            "4 x 6 = 24\n",
            "4 x 7 = 28\n",
            "4 x 8 = 32\n",
            "4 x 9 = 36\n",
            "5 x 1 = 5\n",
            "5 x 2 = 10\n",
            "5 x 3 = 15\n",
            "5 x 4 = 20\n",
            "5 x 5 = 25\n",
            "5 x 6 = 30\n",
            "5 x 7 = 35\n",
            "5 x 8 = 40\n",
            "5 x 9 = 45\n",
            "6 x 1 = 6\n",
            "6 x 2 = 12\n",
            "6 x 3 = 18\n",
            "6 x 4 = 24\n",
            "6 x 5 = 30\n",
            "6 x 6 = 36\n",
            "6 x 7 = 42\n",
            "6 x 8 = 48\n",
            "6 x 9 = 54\n",
            "7 x 1 = 7\n",
            "7 x 2 = 14\n",
            "7 x 3 = 21\n",
            "7 x 4 = 28\n",
            "7 x 5 = 35\n",
            "7 x 6 = 42\n",
            "7 x 7 = 49\n",
            "7 x 8 = 56\n",
            "7 x 9 = 63\n",
            "8 x 1 = 8\n",
            "8 x 2 = 16\n",
            "8 x 3 = 24\n",
            "8 x 4 = 32\n",
            "8 x 5 = 40\n",
            "8 x 6 = 48\n",
            "8 x 7 = 56\n",
            "8 x 8 = 64\n",
            "8 x 9 = 72\n",
            "9 x 1 = 9\n",
            "9 x 2 = 18\n",
            "9 x 3 = 27\n",
            "9 x 4 = 36\n",
            "9 x 5 = 45\n",
            "9 x 6 = 54\n",
            "9 x 7 = 63\n",
            "9 x 8 = 72\n",
            "9 x 9 = 81\n"
          ]
        }
      ]
    },
    {
      "cell_type": "markdown",
      "source": [
        "###실습20"
      ],
      "metadata": {
        "id": "pTniT_tQvZss"
      }
    },
    {
      "cell_type": "code",
      "source": [
        "i = 1\n",
        "sum = 0\n",
        "\n",
        "while i <= 100:\n",
        "  sum = sum + i\n",
        "  i = i + 1\n",
        "\n",
        "print(sum)"
      ],
      "metadata": {
        "colab": {
          "base_uri": "https://localhost:8080/"
        },
        "id": "x78h0bxqpYDb",
        "outputId": "3af53de4-8ae9-412a-bbec-dbcd08003af2"
      },
      "execution_count": null,
      "outputs": [
        {
          "output_type": "stream",
          "name": "stdout",
          "text": [
            "5050\n"
          ]
        }
      ]
    },
    {
      "cell_type": "code",
      "source": [
        "i = 1\n",
        "sum = 0\n",
        "j = int(input('숫자를 입력하세요.'))\n",
        "\n",
        "while i <= j:\n",
        "  sum = sum + i\n",
        "  i = i + 1\n",
        "\n",
        "print(sum)"
      ],
      "metadata": {
        "colab": {
          "base_uri": "https://localhost:8080/"
        },
        "id": "X4oWAjF2veDy",
        "outputId": "7a294d5f-343e-4770-c759-44b4a5ff79ba"
      },
      "execution_count": null,
      "outputs": [
        {
          "output_type": "stream",
          "name": "stdout",
          "text": [
            "숫자를 입력하세요.5\n",
            "15\n"
          ]
        }
      ]
    },
    {
      "cell_type": "code",
      "source": [
        "number = int(input('숫자를 입력 : '))\n",
        "\n",
        "if number % 2 == 0:\n",
        "  print('짝수입니다.')\n",
        "else: \n",
        "  print('홀수입니다.')"
      ],
      "metadata": {
        "colab": {
          "base_uri": "https://localhost:8080/"
        },
        "id": "aM3oJZUVs74N",
        "outputId": "8916f346-52ac-4cb7-bc38-d76ec494fdc5"
      },
      "execution_count": null,
      "outputs": [
        {
          "output_type": "stream",
          "name": "stdout",
          "text": [
            "숫자를 입력 : 4\n",
            "짝수입니다.\n"
          ]
        }
      ]
    },
    {
      "cell_type": "code",
      "source": [
        "i = 0\n",
        "\n",
        "while True:\n",
        "  print(i, end=' ')\n",
        "  i = i + 1\n",
        "  if i == 100:\n",
        "    break"
      ],
      "metadata": {
        "id": "3kvxFyNGvNK8"
      },
      "execution_count": null,
      "outputs": []
    },
    {
      "cell_type": "code",
      "source": [
        "for i in range(1,100):\n",
        "  if i % 2 ==0:\n",
        "    continue\n",
        "  else:\n",
        "    print(i, end = ' ')"
      ],
      "metadata": {
        "colab": {
          "base_uri": "https://localhost:8080/"
        },
        "id": "KLDLznlAwewi",
        "outputId": "6113d3ac-6402-4fdd-a361-ee96aa7b18fc"
      },
      "execution_count": null,
      "outputs": [
        {
          "output_type": "stream",
          "name": "stdout",
          "text": [
            "1 3 5 7 9 11 13 15 17 19 21 23 25 27 29 31 33 35 37 39 41 43 45 47 49 51 53 55 57 59 61 63 65 67 69 71 73 75 77 79 81 83 85 87 89 91 93 95 97 99 "
          ]
        }
      ]
    },
    {
      "cell_type": "markdown",
      "source": [
        "###실습21"
      ],
      "metadata": {
        "id": "OgLimzcC2W26"
      }
    },
    {
      "cell_type": "code",
      "source": [
        "#사용자함수 정의\n",
        "\n",
        "def c_area(radius):\n",
        "    result1 = 3.14 * radius ** 2\n",
        "    return print('원의 넓이는 {:,.0f}입니다.' .format(result1))\n",
        "\n",
        "def circum(radius):\n",
        "  result2 = 3.14 * radius * 2\n",
        "  return print('원의 둘레는 {:,.0f}입니다.' .format(result2))\n",
        "\n",
        "radius = int(input('반지름(정수) 입력 : '))\n",
        "\n",
        "c_area(radius)\n",
        "circum(radius)"
      ],
      "metadata": {
        "id": "P7ye1pnvwolX",
        "colab": {
          "base_uri": "https://localhost:8080/"
        },
        "outputId": "0188261c-5ef0-48a6-a6af-312c4c8865ca"
      },
      "execution_count": null,
      "outputs": [
        {
          "output_type": "stream",
          "name": "stdout",
          "text": [
            "반지름(정수) 입력 : 5\n",
            "원의 넓이는 78입니다.\n",
            "원의 둘레는 31입니다.\n"
          ]
        }
      ]
    },
    {
      "cell_type": "code",
      "source": [
        "def s_to_w(s):\n",
        "  result1 = 1200 * s\n",
        "  return print('{:,.2f}달러는 {:,.0f}원 입니다.' .format(s,result1))\n",
        "\n",
        "def w_to_s(w):\n",
        "  result2 = w/1200\n",
        "  return print('{:,.0f}원은 {:,.2f}달러 입니다.' .format(w,result2))\n",
        "\n",
        "choice = int(input('달러를 원화로 바꾸는 경우는 1, 원화를 달러로 바꾸는 경우에는 2를 입력해주세요.'))\n",
        "\n",
        "if choice == 1:\n",
        "  s = float(input('금액 입력($) : '))\n",
        "  s_to_w(s)\n",
        "elif choice == 2:\n",
        "  w = float(input('금액 입력(￦) : '))\n",
        "  w_to_s(w)\n",
        "else:\n",
        "  print('오류')\n"
      ],
      "metadata": {
        "colab": {
          "base_uri": "https://localhost:8080/"
        },
        "id": "dKRRB15RKAuU",
        "outputId": "8439de8d-8cd2-48dd-c775-9ab91b6a27f6"
      },
      "execution_count": null,
      "outputs": [
        {
          "output_type": "stream",
          "name": "stdout",
          "text": [
            "달러를 원화로 바꾸는 경우는 1, 원화를 달러로 바꾸는 경우에는 2를 입력해주세요.2\n",
            "금액 입력(￦) : 57896675\n",
            "57,896,675원은 48,247.23달러 입니다.\n"
          ]
        }
      ]
    },
    {
      "cell_type": "markdown",
      "source": [
        "### 실습22 (과제)"
      ],
      "metadata": {
        "id": "y29kSRnkPfjY"
      }
    },
    {
      "cell_type": "code",
      "source": [
        "def dest(d):\n",
        "  if d == '서울':\n",
        "    a = 10000\n",
        "  elif d == '대전':\n",
        "    a = 8000\n",
        "  elif d == '대구':\n",
        "    a = 6000\n",
        "  elif d == '울산':\n",
        "    a = 4000\n",
        "  else:\n",
        "    a = 2000\n",
        "  return a\n",
        "\n",
        "def kinds(k):\n",
        "  if k == 'KTX':\n",
        "    b = 5000\n",
        "  elif k == '새마을호':\n",
        "    b = 4000\n",
        "  elif k == '무궁화호':\n",
        "    b = 3000\n",
        "  else:\n",
        "    b = 2000\n",
        "    return b \n",
        "\n",
        "def seat(s):\n",
        "  if s == '좌석':\n",
        "    c = 5000\n",
        "  else:\n",
        "    c = 0\n",
        "  return c\n",
        "\n",
        "def payment(a,b,c):\n",
        "  price = a + b + c\n",
        "  return print('열차 요금은 {:,}원 입니다.' .format(price))\n",
        "\n",
        "\n",
        "d = input('1. 목적지 입력\\n서울/대전/대구/부산\\n')\n",
        "a = dest(d)\n",
        "\n",
        "k = input('2. 열차종류 입력\\nKTX/무궁화호/새마을호/통일호\\n')\n",
        "b = kinds(k)\n",
        "\n",
        "s = input('3. 좌석종류 입력\\n좌석/입석\\n')\n",
        "c = seat(s)\n",
        "\n",
        "payment(a,b,c)"
      ],
      "metadata": {
        "colab": {
          "base_uri": "https://localhost:8080/"
        },
        "id": "2NDVGOEGOIX-",
        "outputId": "b1e2986f-8cd0-4e85-ac7f-83827fcf53a3"
      },
      "execution_count": null,
      "outputs": [
        {
          "output_type": "stream",
          "name": "stdout",
          "text": [
            "1. 목적지 입력\n",
            "서울/대전/대구/부산\n",
            "d\n",
            "2. 열차종류 입력\n",
            "KTX/무궁화호/새마을호/통일호\n",
            "d\n",
            "3. 좌석종류 입력\n",
            "좌석/입석\n",
            "d\n",
            "열차 요금은 4,000원 입니다.\n"
          ]
        }
      ]
    },
    {
      "cell_type": "code",
      "source": [
        "# 22-2 과제\n",
        "\n",
        "def drink(d):\n",
        "  if d == '아메리카노':\n",
        "    a = 5000\n",
        "  elif d == '카페라떼':\n",
        "    a = 8000\n",
        "  else:\n",
        "    a = 6000\n",
        "  return a\n",
        "\n",
        "def size(s):\n",
        "  if s == '스몰':\n",
        "    b = 500\n",
        "  elif s == '레귤러':\n",
        "    b = 1000\n",
        "  else:\n",
        "    b = 2000\n",
        "  return b\n",
        "\n",
        "def payment(a,b):\n",
        "  price = a + b \n",
        "  return print('지불금액은 {:,}원 입니다.' .format(price))\n",
        "\n",
        "d = input('1. 음료 종류\\n아메리카노/카페라떼/카푸치노\\n')\n",
        "a = drink(d)\n",
        "\n",
        "s = input('1. 크기\\n스몰/레귤러/라지\\n')\n",
        "b = size(s)\n",
        "\n",
        "payment(a,b)"
      ],
      "metadata": {
        "colab": {
          "base_uri": "https://localhost:8080/"
        },
        "id": "GdhYmZutYBOM",
        "outputId": "3fe65e50-38cc-4fef-8502-560e3cda3d79"
      },
      "execution_count": null,
      "outputs": [
        {
          "output_type": "stream",
          "name": "stdout",
          "text": [
            "1. 음료 종류\n",
            "아메리카노/카페라떼/카푸치노\n",
            "아메리카노\n",
            "1. 크기\n",
            "스몰/레귤러/라지\n",
            "스몰\n",
            "지불금액은 5,500원 입니다.\n"
          ]
        }
      ]
    },
    {
      "cell_type": "markdown",
      "source": [
        "###실습23"
      ],
      "metadata": {
        "id": "aS2dmYkFZYbL"
      }
    },
    {
      "cell_type": "code",
      "source": [
        "import random\n",
        "\n",
        "number = random.randint(1,10)\n",
        "\n",
        "while True:\n",
        "  guess = int(input('예상되는 숫자 입력(1~10) : '))\n",
        "  if number == guess:\n",
        "    print('정답입니다.')\n",
        "    break\n",
        "  else:\n",
        "    print('오답입니다.')"
      ],
      "metadata": {
        "colab": {
          "base_uri": "https://localhost:8080/"
        },
        "id": "2367RMaPVrAd",
        "outputId": "b2d9561c-eb7c-4d22-867a-83d84beff505"
      },
      "execution_count": null,
      "outputs": [
        {
          "output_type": "stream",
          "name": "stdout",
          "text": [
            "예상되는 숫자 입력(1~10) : 1\n",
            "오답입니다.\n",
            "예상되는 숫자 입력(1~10) : 2\n",
            "오답입니다.\n",
            "예상되는 숫자 입력(1~10) : 3\n",
            "오답입니다.\n",
            "예상되는 숫자 입력(1~10) : 4\n",
            "오답입니다.\n",
            "예상되는 숫자 입력(1~10) : 5\n",
            "오답입니다.\n",
            "예상되는 숫자 입력(1~10) : 6\n",
            "오답입니다.\n",
            "예상되는 숫자 입력(1~10) : 7\n",
            "오답입니다.\n",
            "예상되는 숫자 입력(1~10) : 8\n",
            "오답입니다.\n",
            "예상되는 숫자 입력(1~10) : 9\n",
            "정답입니다.\n"
          ]
        }
      ]
    },
    {
      "cell_type": "markdown",
      "source": [
        "###실습24"
      ],
      "metadata": {
        "id": "KBdfUTlnmM94"
      }
    },
    {
      "cell_type": "code",
      "source": [
        "import random\n",
        "\n",
        "alphabet = 'abcdefghij'\n",
        "\n",
        "string = random.choice(alphabet)\n",
        "print(string)\n",
        "\n",
        "while True:\n",
        "  guess = input('예상되는 알파벳 입력(abcdefghij) : ')\n",
        "  if string == guess:\n",
        "    print('정답입니다.')\n",
        "    break\n",
        "  else:\n",
        "    print('오답입니다.')"
      ],
      "metadata": {
        "colab": {
          "base_uri": "https://localhost:8080/"
        },
        "id": "QQ6UHSh9k51J",
        "outputId": "e9356efb-177f-4cd5-d5e7-db1ff9d5bf93"
      },
      "execution_count": null,
      "outputs": [
        {
          "output_type": "stream",
          "name": "stdout",
          "text": [
            "j\n",
            "예상되는 알파벳 입력(abcdefghij) : j\n",
            "정답입니다.\n"
          ]
        }
      ]
    },
    {
      "cell_type": "code",
      "source": [
        "import random\n",
        "\n",
        "items = [1,2,3,4,5,6,7]\n",
        "\n",
        "random.shuffle(items)\n",
        "\n",
        "print(items)"
      ],
      "metadata": {
        "id": "z5KyFXTlmiW5"
      },
      "execution_count": null,
      "outputs": []
    },
    {
      "cell_type": "markdown",
      "source": [
        "###실습25"
      ],
      "metadata": {
        "id": "gV3dRfrixKks"
      }
    },
    {
      "cell_type": "code",
      "source": [
        "import turtle\n",
        "\n",
        "t = turtle.Turtle()\n",
        "t.color('pink')\n",
        "t.shape('classic')\n",
        "\n",
        "number = int(input('몇각형을 그릴까요?'))\n",
        "\n",
        "t.begin_fill()\n",
        "for i in range(number):\n",
        "    t.forward(100)\n",
        "    t.right(360/number)\n",
        "t.end_fill()\n",
        "\n"
      ],
      "metadata": {
        "id": "qYmUmhQhward"
      },
      "execution_count": null,
      "outputs": []
    },
    {
      "cell_type": "code",
      "source": [
        "import turtle\n",
        "import random\n",
        "\n",
        "t = turtle.Turtle()\n",
        "t.color('black')\n",
        "t.shape('classic') #arrow, circle, square, triangle, classic\n",
        "\n",
        "\n",
        "t.begin_fill()\n",
        "for i in range(30):\n",
        "    t.forward(random.randint(1,100))\n",
        "    t.right(random.randint(0,90))\n",
        "t.end_fill()\n",
        "\n"
      ],
      "metadata": {
        "id": "0SlimuGBxH2f"
      },
      "execution_count": null,
      "outputs": []
    },
    {
      "cell_type": "markdown",
      "source": [
        "###실습26"
      ],
      "metadata": {
        "id": "55K8K0lRxgjm"
      }
    },
    {
      "cell_type": "code",
      "source": [
        "#파일 생성하기\n",
        "#close 필수\n",
        "\n",
        "f = open('python.txt','w') # w : write, r : read, a : append\n",
        "f.write('Hello, Phyton!')\n",
        "f.close()"
      ],
      "metadata": {
        "id": "TCTnbWP1xicy"
      },
      "execution_count": null,
      "outputs": []
    },
    {
      "cell_type": "code",
      "source": [
        "f = open('python.txt', 'a')\n",
        "f.write('I love Python.')\n",
        "f.close()"
      ],
      "metadata": {
        "id": "3neRgbkhy7-v"
      },
      "execution_count": null,
      "outputs": []
    },
    {
      "cell_type": "code",
      "source": [
        "f = open('python.txt', 'r')\n",
        "s = f.read()\n",
        "print(s)\n",
        "f.close()"
      ],
      "metadata": {
        "colab": {
          "base_uri": "https://localhost:8080/"
        },
        "id": "CNdu4uzfydKi",
        "outputId": "61e485db-de25-4b48-9fc1-790e6f655684"
      },
      "execution_count": null,
      "outputs": [
        {
          "output_type": "stream",
          "name": "stdout",
          "text": [
            "Hello, Phyton!I love Python.\n"
          ]
        }
      ]
    },
    {
      "cell_type": "code",
      "source": [
        "#with~as~ 쓰면 파일 닫지 않아도 괜찮음.\n",
        "\n",
        "lines = ['Python\\n', 'Swift\\n', 'Java\\n', 'Kotlin']\n",
        "\n",
        "with open('language.txt', 'w') as file:\n",
        "  file.writelines(lines)\n",
        "  "
      ],
      "metadata": {
        "id": "zJCJIKJnzdKc"
      },
      "execution_count": null,
      "outputs": []
    },
    {
      "cell_type": "code",
      "source": [
        "with open('language.txt', 'r') as file:\n",
        "  lines = file.readlines()\n",
        "  print(lines)"
      ],
      "metadata": {
        "colab": {
          "base_uri": "https://localhost:8080/"
        },
        "id": "Er6bWVXq0CIr",
        "outputId": "f01e97d0-d446-4f9a-b437-92c42da79609"
      },
      "execution_count": null,
      "outputs": [
        {
          "output_type": "stream",
          "name": "stdout",
          "text": [
            "[]\n"
          ]
        }
      ]
    },
    {
      "cell_type": "markdown",
      "source": [
        "###실습28"
      ],
      "metadata": {
        "id": "j2jpoRBh1wIA"
      }
    },
    {
      "cell_type": "code",
      "source": [
        "while True:\n",
        "  try:  #실행\n",
        "    x = int(input('나누고자 하는 숫자 입력 : '))\n",
        "    y = 100 / x\n",
        "    #print(y)\n",
        "  except:  #예외발생시\n",
        "    print('예외가 발생했습니다.')\n",
        "    break\n",
        "  else:  #예외발생안할시\n",
        "    print(y)\n",
        "  finally:  #항상실행\n",
        "    print('예외처리 프로그램을 사용중\\n')"
      ],
      "metadata": {
        "colab": {
          "base_uri": "https://localhost:8080/"
        },
        "id": "7-zQYBOh1KQT",
        "outputId": "ffc754aa-c848-4041-aab1-0507cfa98f31"
      },
      "execution_count": null,
      "outputs": [
        {
          "output_type": "stream",
          "name": "stdout",
          "text": [
            "나누고자 하는 숫자 입력 : 3\n",
            "33.333333333333336\n",
            "예외처리 프로그램을 사용중\n",
            "\n",
            "나누고자 하는 숫자 입력 : 8\n",
            "12.5\n",
            "예외처리 프로그램을 사용중\n",
            "\n",
            "나누고자 하는 숫자 입력 : 0\n",
            "예외가 발생했습니다.\n",
            "예외처리 프로그램을 사용중\n",
            "\n"
          ]
        }
      ]
    },
    {
      "cell_type": "markdown",
      "source": [
        "###실습29"
      ],
      "metadata": {
        "id": "ww4P6f3eXH3F"
      }
    },
    {
      "cell_type": "code",
      "source": [
        "<!DOCTYPE html>\n",
        "<html lang = \"ko\">\n",
        "  <head>\n",
        "    <title>처음 만드는 HTML 문서</title>   #탭 이름\n",
        "  </head>\n",
        "  <body>\n",
        "    <h1>파이썬(Python)</h1>  #제목\n",
        "    <h2>파이썬(Python)</h2>\n",
        "    <h3>파이썬(Python)</h3>\n",
        "    <h4>파이썬(Python)</h4>\n",
        "    <h5>파이썬(Python)</h5>\n",
        "    <h6>파이썬(Python)</h6>\n",
        "    <p>인생은 너무 짧다. 당신에겐 파이썬이 필요하다.</p>   #본문\n",
        "    <img scr = \"C:\\Users\\jinac\\Desktop\\Scan.jpg\">   #이미지\n",
        "  </body>\n",
        "</html>"
      ],
      "metadata": {
        "id": "Bu_QkQngWneS"
      },
      "execution_count": null,
      "outputs": []
    },
    {
      "cell_type": "markdown",
      "source": [
        "###실습30"
      ],
      "metadata": {
        "id": "PFNvc86WXJtc"
      }
    },
    {
      "cell_type": "code",
      "source": [
        "<!DOCTYPE html>\n",
        "<html lang = \"ko\">\n",
        "<head>\n",
        "<title>span vs div</title>\n",
        "</head>\n",
        "<body>\n",
        "<span style = \"background:red\">Welcome to Python World!</span>\n",
        "<span style = \"background:green\">Welcome to Python World!</span>\n",
        "<span style = \"background:blue\">Welcome to Python World!</span>\n",
        "<div style = \"background:red\">Welcome to Python World!</div>\n",
        "<div style = \"background:green\">Welcome to Python World!</div>\n",
        "<div style = \"background:blue\">Welcome to Python World!</div>\n",
        "</body>\n",
        "</html>"
      ],
      "metadata": {
        "id": "uKduG2DrjyOz"
      },
      "execution_count": null,
      "outputs": []
    },
    {
      "cell_type": "markdown",
      "source": [
        "###실습31"
      ],
      "metadata": {
        "id": "CxX0g8Q0j4mi"
      }
    },
    {
      "cell_type": "code",
      "source": [
        "<!DOCTYPE html>\n",
        "<html lang = \"ko\">\n",
        "<head>\n",
        "<title>순서 없는 리스트 만들기</title>\n",
        "</head>\n",
        "<body>\n",
        "<ul>\n",
        "<li>다음 운영체제가 아닌것은?</li>\n",
        "<ul type= \"square\">\n",
        "<li>Windows</li> \n",
        "<li>macOS</li> \n",
        "<li>Linux</li> \n",
        "<li>Interpreter</li>\n",
        "</ul>\n",
        "</ul>\n",
        "</body>\n",
        "</html> "
      ],
      "metadata": {
        "id": "kMloEe5Gj6Pl"
      },
      "execution_count": null,
      "outputs": []
    },
    {
      "cell_type": "markdown",
      "source": [
        "###실습32"
      ],
      "metadata": {
        "id": "1MgFf3_sj-Dc"
      }
    },
    {
      "cell_type": "code",
      "source": [
        "<!DOCTYPE html>\n",
        "<html lang=\"ko\">\n",
        "<head>\n",
        "<title>순서 있는 리스트 만들기</title>\n",
        "</head>\n",
        "\n",
        "<body>\n",
        "<ol type=\"I\">\n",
        "<li>다음 중 웹 브라우저가 아닌것은></li>\n",
        "<ol>\n",
        "<li>크롬</li>\n",
        "<li>에지</li>\n",
        "<li>사파리</li>\n",
        "<li>다음</li>\n",
        "</ol><br>\n",
        "<li>다음 중 동영상 편집 프로그램이 아닌 것은?</li>\n",
        "<ol type=\"a\">\n",
        "<li>프리미어 프로</li>\n",
        "<li>포토샵</li>\n",
        "<li>프리미어 러시</li>\n",
        "<li>파이널 컷</li>\n",
        "</ol><br>\n",
        "<li>다음 중 Office 365에 포함된 프로그램이 아닌 것은></li>\n",
        "<ol type = \"A\" start=\"9\">\n",
        "<li>메모장</li>\n",
        "<li>드림위버</li>\n",
        "<li>나모 웹에디터</li>\n",
        "<li>그림판</li>\n",
        "</ol>\n",
        "</ol>\n",
        "</body>\n",
        "</html>\n"
      ],
      "metadata": {
        "id": "KHv-_dabj_dL"
      },
      "execution_count": null,
      "outputs": []
    },
    {
      "cell_type": "markdown",
      "source": [
        "###실습33"
      ],
      "metadata": {
        "id": "rSGZ-MNikNQq"
      }
    },
    {
      "cell_type": "code",
      "source": [
        "<!DOCTYPE html>\n",
        "<html lang = \"ko\">\n",
        "<head>\n",
        "<title>표 작성하기</title>\n",
        "</head>\n",
        "<body>\n",
        "<table border = \"1\">\n",
        "<tr>\n",
        "<th>성명</th>\n",
        "<th>학과</th>\n",
        "<th>학번</th>\n",
        "</tr>\n",
        "<tr>\n",
        "<td>홍길동</td>\n",
        "<td>컴퓨터공학과</td>\n",
        "<td>202012345</td>\n",
        "</tr>\n",
        "<tr>\n",
        "<td>김영희</td>\n",
        "<td>영문학과</td>\n",
        "<td>201945678</td>\n",
        "</tr>\n",
        "</table>\n",
        "</body>\n",
        "</html>"
      ],
      "metadata": {
        "id": "GvRPnyhgkOky"
      },
      "execution_count": null,
      "outputs": []
    },
    {
      "cell_type": "markdown",
      "source": [
        "###실습34"
      ],
      "metadata": {
        "id": "dqWtMG2DkSAm"
      }
    },
    {
      "cell_type": "code",
      "source": [
        "<!DOCTYPE html>\n",
        "<html lang=\"ko\">\n",
        "<hrad>\n",
        "<title>하이퍼링크 작성하기</title>\n",
        "</head>\n",
        "<body>\n",
        "<a href=\"http://www.naver.com\">네이버로 이동</a><br>\n",
        "<a href=\"http://google.co.kr\" target=\"_blank\">구글로 이동(새창)</a>\n",
        "</body>\n",
        "<html>"
      ],
      "metadata": {
        "id": "Ug0KnYsRkTVG"
      },
      "execution_count": null,
      "outputs": []
    },
    {
      "cell_type": "markdown",
      "source": [
        "###실습35"
      ],
      "metadata": {
        "id": "dyrk3thgkaOU"
      }
    },
    {
      "cell_type": "code",
      "source": [
        "#웹크롤링 기본\n",
        "\n",
        "from bs4 import BeautifulSoup\n",
        "from urllib.request import urlopen\n",
        "with urlopen('https://en.wikipedia.org/wiki/Main_Page') as response:\n",
        "    soup = BeautifulSoup(response, 'html.parser')\n",
        "    for anchor in soup.find_all('a'):\n",
        "        print(anchor.get('href', '/'))\n"
      ],
      "metadata": {
        "id": "fpeb0zXfkd-T"
      },
      "execution_count": null,
      "outputs": []
    },
    {
      "cell_type": "markdown",
      "source": [
        "###실습36"
      ],
      "metadata": {
        "id": "K6b8IqiikeuF"
      }
    },
    {
      "cell_type": "code",
      "source": [
        "#특정 요소 크롤링\n",
        "\n",
        "import requests\n",
        "from bs4 import BeautifulSoup\n",
        "\n",
        "pageurl = requests.get('https://search.naver.com/search.naver?where=blog&sm=tab_viw.blog&query=%ED%8C%8C%EC%9D%B4%EC%8D%AC&nso=')\n",
        "\n",
        "soup = BeautifulSoup(pageurl.content, 'html.parser')\n",
        "\n",
        "result = soup.find_all(attrs = {'class':'api_txt_lines total_tit'})\n",
        "\n",
        "for i in result:\n",
        "    print(i.get_text())\n",
        "    print(i.attrs['href'])\n"
      ],
      "metadata": {
        "id": "6azgNwLPkf1-"
      },
      "execution_count": null,
      "outputs": []
    },
    {
      "cell_type": "markdown",
      "source": [
        "###실습37"
      ],
      "metadata": {
        "id": "_7eIEF9xkxUV"
      }
    },
    {
      "cell_type": "code",
      "source": [
        "import requests\n",
        "from bs4 import BeautifulSoup\n",
        "import urllib.parse\n",
        "import urllib.request\n",
        "\n",
        "pageurl1 = 'https://search.naver.com/search.naver?where=blog&sm=tab_viw.blog&query='  #변하지x 주소\n",
        "pageurl2 = urllib.parse.quote_plus(input('원하는 검색어를 입력: '))   #변하는 주소\n",
        "pageurl = pageurl1 + pageurl2\n",
        "\n",
        "html = urllib.request.urlopen(pageurl).read()\n",
        "\n",
        "soup = BeautifulSoup(html, 'html.parser')\n",
        "\n",
        "result = soup.find_all(attrs = {'class':'api_txt_lines total_tit'})\n",
        "\n",
        "for i in result:\n",
        "    print(i.get_text())\n",
        "    print(i.attrs['href'])\n"
      ],
      "metadata": {
        "id": "dlYD9VAykyjS"
      },
      "execution_count": null,
      "outputs": []
    },
    {
      "cell_type": "markdown",
      "source": [
        "###실습38"
      ],
      "metadata": {
        "id": "GgJS9Td6nwmH"
      }
    },
    {
      "cell_type": "code",
      "source": [
        "import requests\n",
        "from bs4 import BeautifulSoup\n",
        "\n",
        "pageurl = requests.get('https://search.daum.net/search?w=blog&nil_search=btn&DA=NTB&enc=utf8&q=%ED%8C%8C%EC%9D%B4%EC%8D%AC')\n",
        "\n",
        "soup = BeautifulSoup(pageurl.content, 'html.parser')\n",
        "\n",
        "result = soup.find_all(attrs = {'class':'f_link_b'})\n",
        "\n",
        "for i in result:\n",
        "    print(i.get_text())\n",
        "    print(i.attrs['href'])"
      ],
      "metadata": {
        "colab": {
          "base_uri": "https://localhost:8080/"
        },
        "id": "wWFVnUvDonC6",
        "outputId": "dbbb3e9e-4ef6-467b-9b88-cc2f418f94a6"
      },
      "execution_count": null,
      "outputs": [
        {
          "output_type": "stream",
          "name": "stdout",
          "text": [
            "파이썬 (1) - 파이썬 시작하기\n",
            "http://datawizard.co.kr/6\n",
            "파이썬 기본 문법 - 함수\n",
            "http://realbylongines.tistory.com/14\n",
            "[Python] 파이썬 설치 및 환경구축\n",
            "http://joymaster.tistory.com/58\n",
            "파이썬이란?\n",
            "http://realbylongines.tistory.com/2\n",
            "내부망에 파이썬 설치하기(초보용)\n",
            "http://woo-woong-bigdata.tistory.com/6\n",
            "파이썬 gspread 라이브러리로 구글시트 다루기\n",
            "http://meir.tistory.com/162\n",
            "파이썬 텔레그램 챗봇 만드는 방법\n",
            "http://dorudoru.tistory.com/2038\n",
            "성취감을 한껏 느끼며 익히는 파이썬 프로그래밍!\n",
            "http://jpub.tistory.com/1243\n",
            "파이썬 메일 업무 자동화 예제\n",
            "http://codingopera.tistory.com/19\n",
            "Day 9 : [온라인학습] 파이썬 라이브러리 기초\n",
            "http://lucytakearest.tistory.com/8\n"
          ]
        }
      ]
    },
    {
      "cell_type": "markdown",
      "source": [
        "###실습39"
      ],
      "metadata": {
        "id": "b99jwWz2sZfI"
      }
    },
    {
      "cell_type": "code",
      "source": [
        "import requests\n",
        "from bs4 import BeautifulSoup\n",
        "import urllib.parse\n",
        "import urllib.request\n",
        "\n",
        "pageurl1 = 'https://search.daum.net/search?w=blog&DA=PGD&enc=utf8&q=%ED%8C%8C%EC%9D%B4%EC%8D%AC&page='\n",
        "pageurl2 = int(input('몇 번째 페이지 까지 크롤링 할까요? '))\n",
        "\n",
        "for i in range(1, pageurl2 + 1):\n",
        "    pageurl3 = pageurl1 + str(i)\n",
        "    pageurl = requests.get(pageurl3)\n",
        "\n",
        "    soup = BeautifulSoup(pageurl.content, 'html.parser')\n",
        "\n",
        "    result = soup.find_all(attrs = {'class':'f_link_b'})\n",
        "\n",
        "    for i in result:\n",
        "        print(i.get_text())\n",
        "        print(i.attrs['href'])\n"
      ],
      "metadata": {
        "id": "Dlw6IYSOsaZX"
      },
      "execution_count": null,
      "outputs": []
    },
    {
      "cell_type": "markdown",
      "source": [
        "###실습40"
      ],
      "metadata": {
        "id": "IEY9A_bpuh6A"
      }
    },
    {
      "cell_type": "code",
      "source": [
        "import requests\n",
        "from bs4 import BeautifulSoup\n",
        "import urllib.parse\n",
        "import urllib.request\n",
        "\n",
        "pageurl1 = 'https://search.daum.net/search?w=blog&nil_search=btn&DA=NTB&enc=utf8&q='\n",
        "pageurl2 = urllib.parse.quote_plus(input('원하는 검색어를 입력 :'))\n",
        "pageurl3 = '&page='\n",
        "pageurl4 = urllib.parse.quote_plus(input('페이지 입력 :'))\n",
        "pageurl = requests.get(pageurl1 + pageurl2 + pageurl3 + pageurl4)\n",
        "\n",
        "soup = BeautifulSoup(pageurl.content, 'html.parser')\n",
        "\n",
        "result = soup.find_all(attrs = {'class':'f_link_b'})\n",
        "\n",
        "for i in result:\n",
        "    print(i.get_text())\n",
        "    print(i.attrs['href'])\n"
      ],
      "metadata": {
        "id": "ooYMkyjWwLaf"
      },
      "execution_count": null,
      "outputs": []
    },
    {
      "cell_type": "markdown",
      "source": [
        "###실습41"
      ],
      "metadata": {
        "id": "kQwemiklwXUZ"
      }
    },
    {
      "cell_type": "code",
      "source": [
        "import requests\n",
        "from bs4 import BeautifulSoup\n",
        "import urllib.parse\n",
        "import urllib.request\n",
        "\n",
        "pageurl1 = 'https://search.daum.net/search?w=blog&nil_search=btn&DA=NTB&enc=utf8&q='\n",
        "pageurl2 = urllib.parse.quote_plus(input('원하는 검색어를 입력: '))\n",
        "pageurl3 = '&page='\n",
        "pageurl4 = input('몇 페이지까지 검색: ')\n",
        "pageurl = requests.get(pageurl1 + pageurl2 + pageurl3 + pageurl4)\n",
        "\n",
        "soup = BeautifulSoup(pageurl.content, 'html.parser')\n",
        "\n",
        "result = soup.find_all(attrs = {'class':'f_link_b'})\n",
        "\n",
        "for a in range(1, int(pageurl4) + 1):\n",
        "    for i in result:\n",
        "        print(i.get_text())\n",
        "        print(i.attrs['href'])\n"
      ],
      "metadata": {
        "id": "sWjpoerTwKnp"
      },
      "execution_count": null,
      "outputs": []
    }
  ]
}